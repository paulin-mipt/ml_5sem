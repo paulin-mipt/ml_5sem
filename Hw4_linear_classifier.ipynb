{
 "metadata": {
  "name": "",
  "signature": "sha256:b18011460c87f6bec36f0758df30ce65367e547be8c09eb8d0aecee996d5d924"
 },
 "nbformat": 3,
 "nbformat_minor": 0,
 "worksheets": [
  {
   "cells": [
    {
     "cell_type": "code",
     "collapsed": false,
     "input": [
      "import numpy as np\n",
      "from sklearn.cross_validation import cross_val_score\n",
      "\n",
      "\n",
      "dataset_path = \"linear_train.txt\"\n",
      "dataset_file = open(dataset_path, 'r')\n",
      "dataset_text = dataset_file.read().split('\\n')\n",
      "dataset = [line.split(', ') for line in dataset_text if len(line) > 0]\n",
      "for data in dataset:\n",
      "    if data[0][0].islower():\n",
      "        data[1] = '0'\n",
      "\n",
      "words = [line[0] for line in dataset]\n",
      "y = [int(line[-1]) for line in dataset]\n",
      "\n",
      "endings_list = []\n",
      "MAX_ENDING_LEN = 5\n",
      "\n",
      "for length in range(2, MAX_ENDING_LEN):\n",
      "    endings = {}\n",
      "    for i, word in enumerate(words):\n",
      "        ending = word[-length:].lower()\n",
      "        if ending not in endings.keys():\n",
      "            endings[ending] = [0, 0]\n",
      "        if y[i] == 1:\n",
      "            endings[ending][0] += 1\n",
      "        else:\n",
      "            endings[ending][1] += 1\n",
      "    endings_list.append(endings)"
     ],
     "language": "python",
     "metadata": {},
     "outputs": [],
     "prompt_number": 1
    },
    {
     "cell_type": "code",
     "collapsed": false,
     "input": [
      "def word_to_features(word):\n",
      "    global endings_list\n",
      "    features = []\n",
      "    for length in range(2, MAX_ENDING_LEN):\n",
      "        try:\n",
      "            features += endings_list[length][word[-length:].lower()].copy()\n",
      "        except Exception:\n",
      "            features += [0, 0]\n",
      "\n",
      "    features.append(int(word.istitle()))\n",
      "    features.append(int(word.isalpha()))\n",
      "    features.append(int(word.isupper()))\n",
      "    features.append(len(word))\n",
      "    features = np.array(features)\n",
      "    return features"
     ],
     "language": "python",
     "metadata": {},
     "outputs": [],
     "prompt_number": 7
    },
    {
     "cell_type": "code",
     "collapsed": false,
     "input": [
      "# \u043e\u0431\u0443\u0447\u0430\u044e\u0449\u0430\u044f \u0432\u044b\u0431\u043e\u0440\u043a\u0430:\n",
      "X = []\n",
      "for word in words:\n",
      "    X += [word_to_features(word)]\n",
      "\n",
      "X = np.array(X)"
     ],
     "language": "python",
     "metadata": {},
     "outputs": [],
     "prompt_number": 8
    },
    {
     "cell_type": "code",
     "collapsed": false,
     "input": [
      "from sklearn.lda import LDA\n",
      "\n",
      "cross_val_score(LDA(solver='lsqr'), X, y, scoring='roc_auc')"
     ],
     "language": "python",
     "metadata": {},
     "outputs": [
      {
       "metadata": {},
       "output_type": "pyout",
       "prompt_number": 9,
       "text": [
        "array([ 0.84591479,  0.87180589,  0.86227516])"
       ]
      }
     ],
     "prompt_number": 9
    },
    {
     "cell_type": "code",
     "collapsed": false,
     "input": [
      "clf = LDA(solver='lsqr')\n",
      "clf.fit(X, y)"
     ],
     "language": "python",
     "metadata": {},
     "outputs": [
      {
       "metadata": {},
       "output_type": "pyout",
       "prompt_number": 5,
       "text": [
        "LDA(n_components=None, priors=None, shrinkage=None, solver='lsqr',\n",
        "  store_covariance=False, tol=0.0001)"
       ]
      }
     ],
     "prompt_number": 5
    },
    {
     "cell_type": "code",
     "collapsed": false,
     "input": [
      "import csv\n",
      "\n",
      "test_path = \"linear_test.txt\"\n",
      "test_file = open(test_path, 'r')\n",
      "\n",
      "words_test = test_file.read().split('\\n')\n",
      "words_test = [word for word in words_test if len(word) > 0]\n",
      "\n",
      "with open('answer_linear.csv', 'w', newline='') as csvfile:\n",
      "    writer = csv.writer(csvfile)\n",
      "    writer.writerow([\"id\", \"Answer\"])\n",
      "\n",
      "    for i, word in enumerate(words_test):\n",
      "        X_test = word_to_features(word)\n",
      "        writer.writerow([i, clf.predict_proba(X_test)[0][1]])\n"
     ],
     "language": "python",
     "metadata": {},
     "outputs": [],
     "prompt_number": 6
    },
    {
     "cell_type": "code",
     "collapsed": false,
     "input": [],
     "language": "python",
     "metadata": {},
     "outputs": []
    }
   ],
   "metadata": {}
  }
 ]
}