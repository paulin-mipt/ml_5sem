{
 "metadata": {
  "name": "",
  "signature": "sha256:4a2b8f1bc95971e09cb21ff1a934bad376704b1754bb0e3e1b49b7be513d0646"
 },
 "nbformat": 3,
 "nbformat_minor": 0,
 "worksheets": [
  {
   "cells": [
    {
     "cell_type": "code",
     "collapsed": false,
     "input": [
      "import numpy as np\n",
      "import timeit\n",
      "from sklearn.cross_validation import cross_val_score\n",
      "\n",
      "dataset_path = \"regression_train.txt\"\n",
      "dataset_file = open(dataset_path, 'r')\n",
      "dataset_text = dataset_file.read().split('\\n')\n",
      "dataset = [list(map(float, line.split(','))) for line in dataset_text if len(line) > 0]\n",
      "\n",
      "dataset = np.random.permutation(np.array(dataset))\n",
      "\n",
      "X = np.array([line[:-1] for line in dataset])\n",
      "y = np.array([line[-1] for line in dataset])"
     ],
     "language": "python",
     "metadata": {},
     "outputs": [],
     "prompt_number": 2
    },
    {
     "cell_type": "code",
     "collapsed": false,
     "input": [
      "from sklearn.neighbors import KNeighborsRegressor\n",
      "\n",
      "for i in range(1, 5):\n",
      "    print('KNN with {} neighbors'.format(i))\n",
      "    %time print(cross_val_score(KNeighborsRegressor(n_neighbors=i), X, y, scoring='mean_absolute_error'))"
     ],
     "language": "python",
     "metadata": {},
     "outputs": [
      {
       "output_type": "stream",
       "stream": "stdout",
       "text": [
        "KNN with 1 neighbors\n",
        "[-2.42756935 -1.918054   -1.98887817]"
       ]
      },
      {
       "output_type": "stream",
       "stream": "stdout",
       "text": [
        "\n",
        "CPU times: user 2min 2s, sys: 604 ms, total: 2min 2s\n",
        "Wall time: 2min 1s\n",
        "KNN with 2 neighbors\n",
        "[-2.65490098 -2.19652057 -2.14247757]"
       ]
      },
      {
       "output_type": "stream",
       "stream": "stdout",
       "text": [
        "\n",
        "CPU times: user 2min 4s, sys: 612 ms, total: 2min 5s\n",
        "Wall time: 2min 4s\n",
        "KNN with 3 neighbors\n",
        "[-2.92256754 -2.49689668 -2.59210078]"
       ]
      },
      {
       "output_type": "stream",
       "stream": "stdout",
       "text": [
        "\n",
        "CPU times: user 2min 4s, sys: 668 ms, total: 2min 4s\n",
        "Wall time: 2min 4s\n",
        "KNN with 4 neighbors\n",
        "[-3.23746407 -2.72206965 -2.77977831]"
       ]
      },
      {
       "output_type": "stream",
       "stream": "stdout",
       "text": [
        "\n",
        "CPU times: user 2min 5s, sys: 724 ms, total: 2min 5s\n",
        "Wall time: 2min 5s\n"
       ]
      }
     ],
     "prompt_number": 4
    },
    {
     "cell_type": "code",
     "collapsed": false,
     "input": [
      "'''\n",
      "\u041f\u043e\u043f\u0440\u043e\u0431\u0443\u0435\u043c \u0443\u0434\u0430\u043b\u0438\u0442\u044c \u043d\u0435\u043a\u043e\u0442\u043e\u0440\u043e\u0435 \u043a\u043e\u043b\u0438\u0447\u0435\u0441\u0442\u0432\u043e \u043e\u0431\u044a\u0435\u043a\u0442\u043e\u0432 \u0441 \u043e\u0442\u043d\u043e\u0441\u0438\u0442\u0435\u043b\u044c\u043d\u043e \u0431\u043e\u043b\u044c\u0448\u043e\u0439 \u043e\u0448\u0438\u0431\u043a\u043e\u0439,\n",
      "\u0434\u043b\u044f \u0447\u0435\u0433\u043e \u0440\u0430\u0437\u043e\u0431\u044c\u0451\u043c \u0432\u044b\u0431\u043e\u0440\u043a\u0443 \u043f\u043e\u043f\u043e\u043b\u0430\u043c \u0438 \u0441\u0440\u0430\u0432\u043d\u0438\u043c \u043f\u043e\u043b\u0443\u0447\u0435\u043d\u043d\u044b\u0435 \u0440\u0435\u0437\u0443\u043b\u044c\u0442\u0430\u0442\u044b \u0441 \"\u043f\u0440\u0430\u0432\u0438\u043b\u044c\u043d\u044b\u043c\u0438\" \u043e\u0442\u0432\u0435\u0442\u0430\u043c\u0438.\n",
      "'''\n",
      "\n",
      "from sklearn.feature_selection import SelectKBest\n",
      "from sklearn.feature_selection import f_regression\n",
      "\n",
      "selector = SelectKBest(f_regression, k=200)\n",
      "X_new = selector.fit_transform(X, y)\n",
      "\n",
      "estimator1 = KNeighborsRegressor(n_neighbors=4)\n",
      "estimator1.fit(X_new[:len(X) / 2], y[:len(X) / 2])\n",
      "\n",
      "estimator2 = KNeighborsRegressor(n_neighbors=4)\n",
      "estimator2.fit(X_new[len(X) / 2:], y[len(X) / 2:])"
     ],
     "language": "python",
     "metadata": {},
     "outputs": [
      {
       "metadata": {},
       "output_type": "pyout",
       "prompt_number": 4,
       "text": [
        "KNeighborsRegressor(algorithm='auto', leaf_size=30, metric='minkowski',\n",
        "          metric_params=None, n_neighbors=4, p=2, weights='uniform')"
       ]
      }
     ],
     "prompt_number": 4
    },
    {
     "cell_type": "code",
     "collapsed": false,
     "input": [
      "# \u041f\u043e\u0441\u0442\u0440\u043e\u0438\u043c \u0441\u0432\u043e\u044e \u0432\u044b\u0431\u043e\u0440\u043a\u0443, \u0441 \u0431\u043b\u044d\u043a\u0434\u0436\u0435\u043a\u043e\u043c \u0438 \u0431\u0435\u0437 \u0448\u0443\u043c\u0430\n",
      "X_cleaned = []\n",
      "y_cleaned = []\n",
      "estimator = KNeighborsRegressor(n_neighbors=4)\n",
      "\n",
      "def clean(eps):\n",
      "    X_cleaned = []\n",
      "    y_cleaned = []\n",
      "    for i in range(int(len(X) / 2)):\n",
      "        if abs(estimator2.predict(X_new[i]) - y[i]) < eps:\n",
      "            X_cleaned.append(X_new[i])\n",
      "            y_cleaned.append(y[i])\n",
      "        \n",
      "    for i in range(int(len(X) / 2), len(X)):\n",
      "        if abs(estimator1.predict(X_new[i]) - y[i]) < eps:\n",
      "            X_cleaned.append(X_new[i])\n",
      "            y_cleaned.append(y[i])\n",
      "\n",
      "    X_cleaned = np.array(X_cleaned)\n",
      "    y_cleaned = np.array(y_cleaned)\n",
      "    return (X_cleaned, y_cleaned)\n",
      "\n",
      "def clean_and_cross_val(eps):\n",
      "    X_cleaned, y_cleaned = clean(eps)\n",
      "    estimator = KNeighborsRegressor(n_neighbors=4)\n",
      "    estimator.fit(X_cleaned, y_cleaned)\n",
      "    \n",
      "    print('Cross_val_scoring with eps = {} ({} elements left)'.format(eps, len(y_cleaned)))\n",
      "    %time print(cross_val_score(KNeighborsRegressor(n_neighbors=4), X_cleaned, y_cleaned, scoring='mean_absolute_error'))\n",
      "    print()\n"
     ],
     "language": "python",
     "metadata": {},
     "outputs": [],
     "prompt_number": 6
    },
    {
     "cell_type": "code",
     "collapsed": false,
     "input": [
      "# \u0418\u0449\u0435\u043c \u043e\u043f\u0442\u0438\u043c\u0430\u043b\u044c\u043d\u044b\u0439 eps \u0434\u043b\u044f \u0432\u044b\u0431\u043e\u0440\u043a\u0438\n",
      "\n",
      "for i in range(5, 15, 3):\n",
      "    clean_and_cross_val(i)"
     ],
     "language": "python",
     "metadata": {},
     "outputs": [
      {
       "output_type": "stream",
       "stream": "stdout",
       "text": [
        "Cross_val_scoring with eps = 5 (4820 elements left)\n",
        "[-0.47543412 -0.60989271 -0.47985944]"
       ]
      },
      {
       "output_type": "stream",
       "stream": "stdout",
       "text": [
        "\n",
        "CPU times: user 36 s, sys: 208 ms, total: 36.2 s\n",
        "Wall time: 36.1 s\n",
        "\n",
        "Cross_val_scoring with eps = 8 (4860 elements left)"
       ]
      },
      {
       "output_type": "stream",
       "stream": "stdout",
       "text": [
        "\n",
        "[-0.49396154 -0.62403565 -0.48820081]"
       ]
      },
      {
       "output_type": "stream",
       "stream": "stdout",
       "text": [
        "\n",
        "CPU times: user 37.2 s, sys: 200 ms, total: 37.4 s\n",
        "Wall time: 37.2 s\n",
        "\n",
        "Cross_val_scoring with eps = 11 (4895 elements left)"
       ]
      },
      {
       "output_type": "stream",
       "stream": "stdout",
       "text": [
        "\n",
        "[-0.50569606 -0.61781837 -0.49499583]"
       ]
      },
      {
       "output_type": "stream",
       "stream": "stdout",
       "text": [
        "\n",
        "CPU times: user 37.5 s, sys: 232 ms, total: 37.7 s\n",
        "Wall time: 37.4 s\n",
        "\n",
        "Cross_val_scoring with eps = 14 (4908 elements left)"
       ]
      },
      {
       "output_type": "stream",
       "stream": "stdout",
       "text": [
        "\n",
        "[-0.48670112 -0.61144045 -0.51045322]"
       ]
      },
      {
       "output_type": "stream",
       "stream": "stdout",
       "text": [
        "\n",
        "CPU times: user 38.2 s, sys: 216 ms, total: 38.4 s\n",
        "Wall time: 38.2 s\n",
        "\n"
       ]
      }
     ],
     "prompt_number": 8
    },
    {
     "cell_type": "code",
     "collapsed": false,
     "input": [
      "# \u041f\u0443\u0441\u0442\u044c eps = 8\n",
      "X_cleaned, y_cleaned = clean(8)"
     ],
     "language": "python",
     "metadata": {},
     "outputs": [],
     "prompt_number": 10
    },
    {
     "cell_type": "code",
     "collapsed": false,
     "input": [
      "# \u0417\u0430\u043f\u0438\u0441\u0430\u0442\u044c \u043e\u0442\u0432\u0435\u0442\u044b \u0432 \u0444\u0430\u0439\u043b\u0438\u043a\n",
      "import csv\n",
      "\n",
      "test_path = \"regression_test.txt\"\n",
      "test_file = open(test_path, 'r')\n",
      "\n",
      "test_data = test_file.read().split('\\n')\n",
      "test_dataset = [list(map(float, line.split(','))) for line in test_data if len(line) > 0]\n",
      "test_dataset = selector.transform(test_dataset)\n",
      "\n",
      "estimator = KNeighborsRegressor(n_neighbors=4)\n",
      "estimator.fit(X_cleaned, y_cleaned)\n",
      "\n",
      "\n",
      "with open('answer.csv', 'w', newline='') as csvfile:\n",
      "    writer = csv.writer(csvfile)\n",
      "    writer.writerow([\"id\", \"Answer\"])\n",
      "    for i, elem in enumerate(test_dataset):\n",
      "        writer.writerow([i, estimator.predict(np.array(elem))[0]])"
     ],
     "language": "python",
     "metadata": {},
     "outputs": [],
     "prompt_number": 22
    },
    {
     "cell_type": "markdown",
     "metadata": {},
     "source": [
      "\u0423\u0440\u0430! \u0420\u0435\u0437\u0443\u043b\u044c\u0442\u0430\u0442 \u0435\u0441\u0442\u044c. \u041f\u0435\u0440\u0435\u0445\u043e\u0434\u0438\u043c \u043a \u043e\u0442\u0431\u043e\u0440\u0443 \u043f\u0440\u0438\u0437\u043d\u0430\u043a\u043e\u0432."
     ]
    },
    {
     "cell_type": "code",
     "collapsed": false,
     "input": [
      "from sklearn.feature_selection import SelectKBest\n",
      "from sklearn.feature_selection import f_regression\n",
      "\n",
      "X_new = SelectKBest(f_regression, k=50).fit_transform(X, y)\n",
      "\n",
      "estimator_elim = KNeighborsRegressor(n_neighbors=4)\n",
      "estimator_elim.fit(X_new, y)\n"
     ],
     "language": "python",
     "metadata": {},
     "outputs": [
      {
       "metadata": {},
       "output_type": "pyout",
       "prompt_number": 5,
       "text": [
        "KNeighborsRegressor(algorithm='auto', leaf_size=30, metric='minkowski',\n",
        "          metric_params=None, n_neighbors=4, p=2, weights='uniform')"
       ]
      }
     ],
     "prompt_number": 5
    },
    {
     "cell_type": "code",
     "collapsed": false,
     "input": [
      "%time print(cross_val_score(KNeighborsRegressor(n_neighbors=4), X_new, y, scoring='mean_absolute_error'))\n",
      "\n",
      "# \u0421\u0442\u0430\u043b\u043e \u0437\u0430\u043c\u0435\u0442\u043d\u043e \u0431\u044b\u0441\u0442\u0440\u0435\u0435, \u043d\u043e \u0437\u0430\u043c\u0435\u0442\u043d\u043e \"\u043d\u0435\u043f\u0440\u0430\u0432\u0438\u043b\u044c\u043d\u0435\u0435\". \u041b\u043e\u0433\u0438\u0447\u043d\u043e, \u043d\u043e \u043f\u0435\u0447\u0430\u043b\u044c\u043d\u043e, \u0445\u043e\u0442\u0435\u043b\u043e\u0441\u044c \u0447\u0443\u0434\u0430"
     ],
     "language": "python",
     "metadata": {},
     "outputs": [
      {
       "output_type": "stream",
       "stream": "stdout",
       "text": [
        "[-4.4089389  -4.23647366 -4.79084551]\n",
        "CPU times: user 5.58 s, sys: 32 ms, total: 5.62 s\n",
        "Wall time: 5.6 s\n"
       ]
      }
     ],
     "prompt_number": 6
    },
    {
     "cell_type": "markdown",
     "metadata": {},
     "source": [
      "\u0422\u0435\u043f\u0435\u0440\u044c - \u043f\u0440\u0435\u043e\u0431\u0440\u0430\u0437\u043e\u0432\u0430\u043d\u0438\u0435 \u043f\u0440\u0438\u0437\u043d\u0430\u043a\u043e\u0432: Principal Component Analysis, manifold learning"
     ]
    },
    {
     "cell_type": "code",
     "collapsed": false,
     "input": [
      "from sklearn.decomposition import PCA\n",
      "\n",
      "for i in range(2, 20, 2):\n",
      "    pca = PCA(n_components=i)\n",
      "    X_new = pca.fit_transform(X)\n",
      "    print(\"cross_val_score for PCA with {} components:\".format(i))\n",
      "    %time print(cross_val_score(KNeighborsRegressor(n_neighbors=4), X_new, y, scoring='mean_absolute_error'))\n",
      "    print()"
     ],
     "language": "python",
     "metadata": {},
     "outputs": [
      {
       "output_type": "stream",
       "stream": "stdout",
       "text": [
        "cross_val_score for PCA with 2 components:\n",
        "[-8.93343704 -9.03398946 -8.68798404]"
       ]
      },
      {
       "output_type": "stream",
       "stream": "stdout",
       "text": [
        "\n",
        "CPU times: user 172 ms, sys: 0 ns, total: 172 ms\n",
        "Wall time: 169 ms\n",
        "\n",
        "cross_val_score for PCA with 4 components:"
       ]
      },
      {
       "output_type": "stream",
       "stream": "stdout",
       "text": [
        "\n",
        "[-3.09351296 -3.35661569 -3.05862161]"
       ]
      },
      {
       "output_type": "stream",
       "stream": "stdout",
       "text": [
        "\n",
        "CPU times: user 316 ms, sys: 0 ns, total: 316 ms\n",
        "Wall time: 318 ms\n",
        "\n",
        "cross_val_score for PCA with 6 components:"
       ]
      },
      {
       "output_type": "stream",
       "stream": "stdout",
       "text": [
        "\n",
        "[-2.00924924 -2.13928275 -2.16523017]"
       ]
      },
      {
       "output_type": "stream",
       "stream": "stdout",
       "text": [
        "\n",
        "CPU times: user 440 ms, sys: 0 ns, total: 440 ms\n",
        "Wall time: 439 ms\n",
        "\n",
        "cross_val_score for PCA with 8 components:"
       ]
      },
      {
       "output_type": "stream",
       "stream": "stdout",
       "text": [
        "\n",
        "[-2.87388833 -2.94951388 -3.02155835]"
       ]
      },
      {
       "output_type": "stream",
       "stream": "stdout",
       "text": [
        "\n",
        "CPU times: user 792 ms, sys: 0 ns, total: 792 ms\n",
        "Wall time: 792 ms\n",
        "\n",
        "cross_val_score for PCA with 10 components:"
       ]
      },
      {
       "output_type": "stream",
       "stream": "stdout",
       "text": [
        "\n",
        "[-3.77859389 -4.03943472 -3.8814169 ]"
       ]
      },
      {
       "output_type": "stream",
       "stream": "stdout",
       "text": [
        "\n",
        "CPU times: user 1.44 s, sys: 0 ns, total: 1.44 s\n",
        "Wall time: 1.45 s\n",
        "\n",
        "cross_val_score for PCA with 12 components:"
       ]
      },
      {
       "output_type": "stream",
       "stream": "stdout",
       "text": [
        "\n",
        "[-4.15256506 -4.3756063  -4.48087527]"
       ]
      },
      {
       "output_type": "stream",
       "stream": "stdout",
       "text": [
        "\n",
        "CPU times: user 2.06 s, sys: 8 ms, total: 2.06 s\n",
        "Wall time: 2.06 s\n",
        "\n",
        "cross_val_score for PCA with 14 components:"
       ]
      },
      {
       "output_type": "stream",
       "stream": "stdout",
       "text": [
        "\n",
        "[-4.75560552 -5.06264238 -5.08839767]"
       ]
      },
      {
       "output_type": "stream",
       "stream": "stdout",
       "text": [
        "\n",
        "CPU times: user 2.86 s, sys: 4 ms, total: 2.86 s\n",
        "Wall time: 2.86 s\n",
        "\n",
        "cross_val_score for PCA with 16 components:"
       ]
      },
      {
       "output_type": "stream",
       "stream": "stdout",
       "text": [
        "\n",
        "[-5.17572803 -5.26653586 -5.35604297]"
       ]
      },
      {
       "output_type": "stream",
       "stream": "stdout",
       "text": [
        "\n",
        "CPU times: user 3.64 s, sys: 8 ms, total: 3.65 s\n",
        "Wall time: 3.66 s\n",
        "\n",
        "cross_val_score for PCA with 18 components:"
       ]
      },
      {
       "output_type": "stream",
       "stream": "stdout",
       "text": [
        "\n",
        "[-5.44030635 -5.4164005  -5.51662766]"
       ]
      },
      {
       "output_type": "stream",
       "stream": "stdout",
       "text": [
        "\n",
        "CPU times: user 4.45 s, sys: 16 ms, total: 4.46 s\n",
        "Wall time: 4.47 s\n",
        "\n"
       ]
      }
     ],
     "prompt_number": 16
    },
    {
     "cell_type": "markdown",
     "metadata": {},
     "source": [
      "\u0422\u0435\u043f\u0435\u0440\u044c - manifold learning.\n",
      "Sammon mapping:"
     ]
    },
    {
     "cell_type": "code",
     "collapsed": false,
     "input": [
      "from sklearn import manifold\n",
      "\n",
      "mds = manifold.MDS(n_components=2, n_init=1, max_iter=100, eps=1e-5)\n",
      "print('MDS fit_tranform time:')\n",
      "%time X_mds = mds.fit_transform(X)\n",
      "print('MDS cross_val_score time:')\n",
      "%time print(cross_val_score(KNeighborsRegressor(n_neighbors=4), X_mds, y, scoring='mean_absolute_error'))\n"
     ],
     "language": "python",
     "metadata": {},
     "outputs": [
      {
       "output_type": "stream",
       "stream": "stdout",
       "text": [
        "MDS fit_tranform time:\n",
        "CPU times: user 13min 18s, sys: 1min 43s, total: 15min 1s"
       ]
      },
      {
       "output_type": "stream",
       "stream": "stdout",
       "text": [
        "\n",
        "Wall time: 26min 19s\n",
        "MDS cross_val_score time:"
       ]
      },
      {
       "output_type": "stream",
       "stream": "stdout",
       "text": [
        "\n",
        "[-15.69106254 -15.51177757 -15.33075575]"
       ]
      },
      {
       "output_type": "stream",
       "stream": "stdout",
       "text": [
        "\n",
        "CPU times: user 184 ms, sys: 56 ms, total: 240 ms\n",
        "Wall time: 12.4 s\n"
       ]
      }
     ],
     "prompt_number": 7
    },
    {
     "cell_type": "code",
     "collapsed": false,
     "input": [
      "from sklearn import manifold\n",
      "\n",
      "isomap = manifold.Isomap(10, 400)\n",
      "print('Isomap fit_tranform time:')\n",
      "%time X_iso = isomap.fit_transform(X)\n",
      "print('Isomap cross_val_score time:')\n",
      "%time print(cross_val_score(KNeighborsRegressor(n_neighbors=4), X_iso, y, scoring='mean_absolute_error'))\n"
     ],
     "language": "python",
     "metadata": {},
     "outputs": []
    },
    {
     "cell_type": "code",
     "collapsed": false,
     "input": [],
     "language": "python",
     "metadata": {},
     "outputs": []
    }
   ],
   "metadata": {}
  }
 ]
}