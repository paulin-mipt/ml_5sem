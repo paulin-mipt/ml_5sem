{
 "metadata": {
  "name": "",
  "signature": "sha256:d8ba3936a2ff10d59019f284530d7dacf47dc5f1d6c57bd900e17fbe5f3db866"
 },
 "nbformat": 3,
 "nbformat_minor": 0,
 "worksheets": [
  {
   "cells": [
    {
     "cell_type": "code",
     "collapsed": false,
     "input": [
      "#qsort\n",
      "\n",
      "def qsort(l):\n",
      "    if len(l) < 2: return l\n",
      "    return qsort([leq for leq in l[1:] if leq <= l[0]]) + [l[0]] + qsort([g for g in l[1:] if g > l[0]])\n",
      "\n",
      "print(qsort([1, 0, -1, 2, 5, -10]))"
     ],
     "language": "python",
     "metadata": {},
     "outputs": [
      {
       "output_type": "stream",
       "stream": "stdout",
       "text": [
        "[-10, -1, 0, 1, 2, 5]\n"
       ]
      }
     ],
     "prompt_number": 76
    },
    {
     "cell_type": "code",
     "collapsed": false,
     "input": [
      "#100 prime numbers\n",
      "\n",
      "primes = [2]\n",
      "\n",
      "while len(primes) < 100:\n",
      "    primes.append(primes[-1] + 1)\n",
      "    while len([x for x in range(1, primes[-1]) if primes[-1] % x == 0]) > 1:\n",
      "        primes[-1] += 1\n",
      "        \n",
      "print(' '.join(map(str, primes)))"
     ],
     "language": "python",
     "metadata": {},
     "outputs": [
      {
       "output_type": "stream",
       "stream": "stdout",
       "text": [
        "2 3 5 7 11 13 17 19 23 29 31 37 41 43 47 53 59 61 67 71 73 79 83 89 97 101 103 107 109 113 127 131 137 139 149 151 157 163 167 173 179 181 191 193 197 199 211 223 227 229 233 239 241 251 257 263 269 271 277 281 283 293 307 311 313 317 331 337 347 349 353 359 367 373 379 383 389 397 401 409 419 421 431 433 439 443 449 457 461 463 467 479 487 491 499 503 509 521 523 541\n"
       ]
      }
     ],
     "prompt_number": 74
    },
    {
     "cell_type": "code",
     "collapsed": false,
     "input": [
      "#prime numbers in 1 line\n",
      "\n",
      "\n",
      "print(' '.join(map(str, [z for z in range(2, 600) if len([x for x in range(1, z) if z % x == 0]) == 1][:100])))"
     ],
     "language": "python",
     "metadata": {},
     "outputs": [
      {
       "output_type": "stream",
       "stream": "stdout",
       "text": [
        "2 3 5 7 11 13 17 19 23 29 31 37 41 43 47 53 59 61 67 71 73 79 83 89 97 101 103 107 109 113 127 131 137 139 149 151 157 163 167 173 179 181 191 193 197 199 211 223 227 229 233 239 241 251 257 263 269 271 277 281 283 293 307 311 313 317 331 337 347 349 353 359 367 373 379 383 389 397 401 409 419 421 431 433 439 443 449 457 461 463 467 479 487 491 499 503 509 521 523 541\n"
       ]
      }
     ],
     "prompt_number": 77
    },
    {
     "cell_type": "code",
     "collapsed": false,
     "input": [
      "import numpy as np\n",
      "\n",
      "#linspace analog\n",
      "def my_linspace(start, stop, num=50, endpoint=True, retstep=False, dtype=None):\n",
      "    if not endpoint:\n",
      "        stop -= (stop - start) / num\n",
      "    step = (stop - start) / (num - 1)\n",
      "    \n",
      "    if dtype is None:\n",
      "        dtype = type(start)\n",
      "    ans = np.ndarray(shape=(num,), dtype=dtype)\n",
      "    ans[0] = start\n",
      "    \n",
      "    for i in range(1, num):\n",
      "        ans[i] = ans[i - 1] + step\n",
      "        \n",
      "    if not retstep:\n",
      "        return ans\n",
      "    return (ans, step)\n",
      "\n",
      "#It works!\n",
      "print(my_linspace(2.0, 3.0, num=5))\n",
      "print(my_linspace(2.0, 3.0, num=5, endpoint=False))\n",
      "print(my_linspace(2.0, 3.0, num=5, retstep=True))\n",
      "\n",
      "#productivity\n",
      "import timeit\n",
      "import random\n",
      "\n",
      "print()\n",
      "print('1. Built-in linspace:')\n",
      "%timeit(np.linspace(random.randint(0, 1000), random.randint(1000, 2000)))\n",
      "print('2. My awful imitation:')\n",
      "%timeit(my_linspace(random.randint(0, 1000), random.randint(1000, 2000)))"
     ],
     "language": "python",
     "metadata": {},
     "outputs": [
      {
       "output_type": "stream",
       "stream": "stdout",
       "text": [
        "[ 2.    2.25  2.5   2.75  3.  ]\n",
        "[ 2.   2.2  2.4  2.6  2.8]\n",
        "(array([ 2.  ,  2.25,  2.5 ,  2.75,  3.  ]), 0.25)\n",
        "\n",
        "1. built-in linspace:\n",
        "10000 loops, best of 3: 125 \u00b5s per loop"
       ]
      },
      {
       "output_type": "stream",
       "stream": "stdout",
       "text": [
        "\n",
        "2. my awful imitation:\n",
        "100 loops, best of 3: 2.57 ms per loop"
       ]
      },
      {
       "output_type": "stream",
       "stream": "stdout",
       "text": [
        "\n"
       ]
      }
     ],
     "prompt_number": 110
    },
    {
     "cell_type": "code",
     "collapsed": false,
     "input": [
      "#productivity test: array vs ndarray vs list\n",
      "import random\n",
      "import numpy as np\n",
      "import timeit\n",
      "\n",
      "def randarr(n):\n",
      "    l = []\n",
      "    for i in range(n):\n",
      "        l.append(random.randint(0, 10000))\n",
      "    return l\n",
      "    \n",
      "#testing array\n",
      "arr1 = np.array(randarr(1000))\n",
      "arr2 = np.array(randarr(1000))\n",
      "%timeit arr1 + arr2\n",
      "\n",
      "#testing ndarray\n",
      "arr1 = np.ndarray(shape=(1000,), buffer=np.array(randarr(1000)), dtype=int)\n",
      "arr2 = np.ndarray(shape=(1000,), buffer=np.array(randarr(1000)), dtype=int)\n",
      "%timeit arr1 + arr2 #1-dim ndarray seems to be equal to array\n",
      "\n",
      "arr1 = randarr(1000)\n",
      "arr2 = randarr(1000)\n",
      "%timeit map(lambda x, y : x + y, arr1, arr2) #list is faster, really?!!!"
     ],
     "language": "python",
     "metadata": {},
     "outputs": [
      {
       "output_type": "stream",
       "stream": "stdout",
       "text": [
        "10000 loops, best of 3: 19.8 \u00b5s per loop\n",
        "10000 loops, best of 3: 20.3 \u00b5s per loop"
       ]
      },
      {
       "output_type": "stream",
       "stream": "stdout",
       "text": [
        "\n",
        "100000 loops, best of 3: 2.71 \u00b5s per loop"
       ]
      },
      {
       "output_type": "stream",
       "stream": "stdout",
       "text": [
        "\n"
       ]
      }
     ],
     "prompt_number": 107
    },
    {
     "cell_type": "code",
     "collapsed": false,
     "input": [
      "#axis labels\n",
      "from matplotlib import pylab as plt\n",
      "import numpy as np\n",
      "\n",
      "plt.plot(np.linspace(-2, 2), [z ** 2 for z in np.linspace(-2, 2)], label=\"square\")\n",
      "plt.legend(loc=4)\n",
      "plt.xlabel('cats', size=12)\n",
      "plt.ylabel('squared cats', size=12)\n",
      "plt.show()"
     ],
     "language": "python",
     "metadata": {},
     "outputs": [
      {
       "metadata": {},
       "output_type": "display_data",
       "png": "[encoded data removed]",
       "text": [
        "<matplotlib.figure.Figure at 0xb0e2b78c>"
       ]
      }
     ],
     "prompt_number": 88
    },
    {
     "cell_type": "code",
     "collapsed": false,
     "input": [
      "#latex\n",
      "from matplotlib import pylab as plt\n",
      "import numpy as np\n",
      "import math\n",
      "\n",
      "def sign(x):\n",
      "    if x == 0:\n",
      "        return 0\n",
      "    return x / abs(x)\n",
      "\n",
      "plt.plot(np.linspace(-4, 4), [math.sin(z) for z in np.linspace(-4, 4)], label='$y = sin(x)$')\n",
      "plt.plot(np.linspace(-4, 4), [math.cos(z) for z in np.linspace(-4, 4)], label='$y = cos(x)$')\n",
      "plt.plot(np.linspace(-4, 4), [sign(z) * abs(z) ** (1 / 3) for z in np.linspace(-4, 4)], label='$y = \\sqrt[3]{x}$')\n",
      "plt.plot(np.linspace(-4, 4), [sign(z) for z in np.linspace(-4, 4)], label='$y = sign(x)$')\n",
      "plt.plot(np.linspace(-4, 4), [0 for z in np.linspace(-4, 4)], label='$y = 0$')\n",
      "\n",
      "legend = plt.legend(loc=3, bbox_to_anchor=(1, 0),)\n",
      "plt.xlabel('some x label', size=12)\n",
      "plt.ylabel('some y label', size=12)\n",
      "\n",
      "plt.savefig(\"mpl_ex.png\", format=\"png\", additional_artists=[legend],\n",
      "    bbox_inches=\"tight\")\n",
      "plt.show()\n"
     ],
     "language": "python",
     "metadata": {},
     "outputs": [
      {
       "metadata": {},
       "output_type": "display_data",
       "png": "[encoded data removed]",
       "text": [
        "<matplotlib.figure.Figure at 0xb0e6f96c>"
       ]
      }
     ],
     "prompt_number": 69
    },
    {
     "cell_type": "code",
     "collapsed": false,
     "input": [],
     "language": "python",
     "metadata": {},
     "outputs": []
    }
   ],
   "metadata": {}
  }
 ]
}