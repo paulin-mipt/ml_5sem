{
 "metadata": {
  "name": "",
  "signature": "sha256:d18f4daa2ccbd749232771fd20325ed88a27a34b9345d366008ef6325a7abe1f"
 },
 "nbformat": 3,
 "nbformat_minor": 0,
 "worksheets": [
  {
   "cells": [
    {
     "cell_type": "code",
     "collapsed": false,
     "input": [
      "import matplotlib.pyplot as plt\n",
      "import numpy as np\n",
      "import random\n",
      "from math import *\n",
      "import time\n",
      "import math\n",
      "%matplotlib inline\n",
      "print( \"https://ru.wikipedia.org/wiki/\u0417\u0430\u0434\u0430\u0447\u0430_\u043e_\u0440\u0430\u043d\u0446\u0435\" )"
     ],
     "language": "python",
     "metadata": {},
     "outputs": [
      {
       "output_type": "stream",
       "stream": "stdout",
       "text": [
        "https://ru.wikipedia.org/wiki/\u0417\u0430\u0434\u0430\u0447\u0430_\u043e_\u0440\u0430\u043d\u0446\u0435\n"
       ]
      }
     ],
     "prompt_number": 31
    },
    {
     "cell_type": "code",
     "collapsed": false,
     "input": [
      "#\u0420\u0430\u0441\u0441\u043c\u043e\u0442\u0440\u0438\u043c \u0441\u043b\u0435\u0434\u0443\u044e\u0449\u0443\u044e \u0441\u0438\u0442\u0443\u0430\u0446\u0438\u044e. \n",
      "#\u0414\u043e\u043f\u0443\u0441\u0442\u0438\u043c \u0432\u044b \u0445\u043e\u0442\u0438\u0442\u0435 \u043f\u043e\u0435\u0445\u0430\u0442\u044c \u0437\u0430 \u0433\u0440\u0430\u043d\u0438\u0446\u0443, \u043d\u043e \u0432\u0430\u043b\u044e\u0442\u0443 \u0432\u0430\u043c \u043d\u0435 \u043c\u0435\u043d\u044f\u044e\u0442 \u2014 \n",
      "#\u0432\u044b \u043c\u043e\u0436\u0435\u0442\u0435 \u043f\u0435\u0440\u0435\u0432\u0435\u0437\u0442\u0438 \u0441 \u0441\u043e\u0431\u043e\u0439 \u043b\u0438\u0448\u044c \u0442\u043e\u0432\u0430\u0440\u044b \u0434\u043b\u044f \u0440\u0435\u0430\u043b\u0438\u0437\u0430\u0446\u0438\u0438 \u043d\u0430 \u0441\u0432\u043e\u0431\u043e\u0434\u043d\u043e\u043c \u0440\u044b\u043d\u043a\u0435 \u00ab\u0442\u0430\u043c\u00bb. \n",
      "#\u0421 \u0441\u043e\u0431\u043e\u0439 \u0432 \u0441\u0430\u043c\u043e\u043b\u0435\u0442 \u0440\u0430\u0437\u0440\u0435\u0448\u0435\u043d\u043e \u0432\u0437\u044f\u0442\u044c \u043d\u0435 \u0431\u043e\u043b\u0435\u0435 20 \u043a\u0433. \n",
      "#\u0412\u043e\u0437\u043d\u0438\u043a\u0430\u0435\u0442 \u0432\u043e\u043f\u0440\u043e\u0441 \u2013 \u043a\u0430\u043a\u0438\u0435 \u0442\u043e\u0432\u0430\u0440\u044b \u0432\u0437\u044f\u0442\u044c, \u0447\u0442\u043e\u0431\u044b \u043f\u0435\u0440\u0435\u0432\u0435\u0437\u0442\u0438 \u043c\u0430\u043a\u0441\u0438\u043c\u0430\u043b\u044c\u043d\u0443\u044e \u0446\u0435\u043d\u043d\u043e\u0441\u0442\u044c, \n",
      "#\u0443\u0447\u0438\u0442\u044b\u0432\u0430\u044f \u043e\u0433\u0440\u0430\u043d\u0438\u0447\u0435\u043d\u0438\u0435 \u043f\u043e \u0432\u0435\u0441\u0443? \u0412\u043e\u0434\u043a\u0443 (17$ / 1,5 \u043a\u0433), \u0431\u043e\u043b\u044c\u0448\u0443\u044e \u043c\u0430\u0442\u0440\u0435\u0448\u043a\u0443 (30$ / 2,5 \u043a\u0433), \n",
      "#\u0431\u0430\u043b\u0430\u043b\u0430\u0439\u043a\u0438 (75$ / 6 \u043a\u0433) \u0438\u043b\u0438 \u0435\u0449\u0435 \u0447\u0442\u043e-\u0442\u043e \u0438 \u0432 \u043a\u0430\u043a\u0438\u0445 \u043a\u043e\u043b\u0438\u0447\u0435\u0441\u0442\u0432\u0430\u0445?"
     ],
     "language": "python",
     "metadata": {},
     "outputs": [],
     "prompt_number": 2
    },
    {
     "cell_type": "code",
     "collapsed": false,
     "input": [
      "#0\u0439 \u0438\u043d\u0434\u0435\u043a\u0441 \u0432\u043c\u0435\u0441\u0442\u0438\u043c\u043e\u0441\u0442\u044c 1\u0439 \u0446\u0435\u043d\u0430\n",
      "def generate_data( number_of_items, part_to_use, max_weight, max_cost ):\n",
      "    data = []\n",
      "    capacity = 0\n",
      "    for i in range( number_of_items ):\n",
      "        weight = random.randint( 1, max_weight )\n",
      "        cost = random.randint( 1, max_cost )\n",
      "        data.append( ( weight, cost ) )\n",
      "    number_to_choose_for_capacity = math.floor( number_of_items * part_to_use )\n",
      "    for i in range( number_to_choose_for_capacity ):\n",
      "        capacity += random.choice( data )[0]\n",
      "    return data, capacity"
     ],
     "language": "python",
     "metadata": {},
     "outputs": [],
     "prompt_number": 32
    },
    {
     "cell_type": "code",
     "collapsed": false,
     "input": [
      "data, capacity = generate_data( 1000, 0.75, max_weight = 500, max_cost = 600 )\n"
     ],
     "language": "python",
     "metadata": {},
     "outputs": [],
     "prompt_number": 33
    },
    {
     "cell_type": "code",
     "collapsed": false,
     "input": [
      "initial_indexes = [False] * len( data )"
     ],
     "language": "python",
     "metadata": {},
     "outputs": [],
     "prompt_number": 39
    },
    {
     "cell_type": "code",
     "collapsed": false,
     "input": [
      "def is_indexes_allowed( indexes ):\n",
      "    global data, capacity\n",
      "    current_capacity = 0\n",
      "    for i in range( len( indexes ) ):\n",
      "        if indexes[i]:\n",
      "            current_capacity += data[i][0]\n",
      "    return current_capacity <= capacity\n",
      "\n",
      "def knapsack_cost( indexes ):\n",
      "    global data, capacity\n",
      "    current_cost = 0\n",
      "    for i in range( len( indexes ) ):\n",
      "        if indexes[i]:\n",
      "            current_cost += data[i][1]\n",
      "    return current_cost\n",
      "\n"
     ],
     "language": "python",
     "metadata": {},
     "outputs": [],
     "prompt_number": 40
    },
    {
     "cell_type": "code",
     "collapsed": false,
     "input": [
      "    best_indexes = initial_indexes[:]\n",
      "    indexes = initial_indexes[:]\n",
      "    current_cost = knapsack_cost(indexes)\n",
      "    best_cost = 0\n",
      "    \n",
      "    T_o = 5000\n",
      "    T_stop = 1\n",
      "    \n",
      "    k = 1\n",
      "    T = T_o\n",
      "    \n",
      "    while (T > T_stop):\n",
      "        change_ind_num = np.random.randint(1, 4) #how many indexes we gonna change\n",
      "        change_ind = [0] * change_ind_num\n",
      "        for i in range(change_ind_num):\n",
      "            change_ind[i] = np.random.randint(0, len(indexes))\n",
      "            indexes[change_ind[i]] = not indexes[change_ind[i]]\n",
      "            \n",
      "        if not is_indexes_allowed(indexes): #if too many in a knapsack,\n",
      "            for i in range(change_ind_num): #undo changes\n",
      "                indexes[change_ind[i]] = not indexes[change_ind[i]]\n",
      "            continue\n",
      "            \n",
      "        #simulated annealing itself\n",
      "        new_cost = knapsack_cost(indexes)\n",
      "        dE = current_cost - new_cost\n",
      "        if dE < 0:\n",
      "            if new_cost > best_cost:\n",
      "                best_cost = new_cost\n",
      "                best_indexes = indexes[:]\n",
      "            current_cost = new_cost\n",
      "        else:\n",
      "            h = math.exp(-dE / T)\n",
      "            if (random.random() < h):\n",
      "                current_cost = new_cost\n",
      "            else:\n",
      "                for i in range(change_ind_num): #undo changes\n",
      "                    indexes[change_ind[i]] = not indexes[change_ind[i]]\n",
      "        T = T_o / k\n",
      "        k += 1\n",
      "    \n",
      "    print(best_cost)"
     ],
     "language": "python",
     "metadata": {},
     "outputs": [
      {
       "output_type": "stream",
       "stream": "stdout",
       "text": [
        "263516\n"
       ]
      }
     ],
     "prompt_number": 57
    },
    {
     "cell_type": "code",
     "collapsed": false,
     "input": [],
     "language": "python",
     "metadata": {},
     "outputs": [],
     "prompt_number": 41
    },
    {
     "cell_type": "code",
     "collapsed": false,
     "input": [],
     "language": "python",
     "metadata": {},
     "outputs": []
    }
   ],
   "metadata": {}
  }
 ]
}